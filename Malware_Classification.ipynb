{
  "cells": [
    {
      "cell_type": "markdown",
      "metadata": {
        "id": "SPAPGn5f1ywx"
      },
      "source": [
        "#HW-5: Malware Classification\n",
        "\n",
        "**Instructions:**\n",
        "\n",
        "Suppose your company is struggling with a series of computer virus attacks for the past several months. The viruses were grouped into a few types with some effort. However, it takes a long time to sort out what kind of virus it is when been hit with. Thus, as a senior IT department member, you undertook a project to classify the virus as quickly as possible. You've been given a dataset of the features that may be handy (or not), and  also the associated virus type (target variable).\n",
        "\n",
        "You are supposed to try different classification methods and apply best practices we have seen in the lectures such as grid search, cross validation, regularization etc. To increase your grade you can add more elaboration such as using ensembling or exploiting feature selection/extraction techniques. **An evaluation rubric is provided.**\n",
        "\n",
        "Please prepare a python notebook that describes the steps, present the results as well as your comments.\n",
        "\n",
        "You can download the data (csv file)"
      ]
    },
    {
      "cell_type": "code",
      "execution_count": null,
      "metadata": {
        "id": "Hy9RDjdw1yw0"
      },
      "outputs": [],
      "source": [
        "import numpy as np\n",
        "import pandas as pd\n",
        "import matplotlib.pyplot as plt\n",
        "from sklearn.svm import LinearSVC, SVC\n",
        "from sklearn.neighbors import KNeighborsClassifier\n",
        "from sklearn.ensemble import RandomForestClassifier, VotingClassifier\n",
        "from sklearn.linear_model import LogisticRegression\n",
        "from sklearn.metrics import confusion_matrix\n",
        "from sklearn.metrics import mean_squared_error, accuracy_score\n",
        "from sklearn.model_selection import train_test_split\n",
        "from sklearn.model_selection import cross_val_score, cross_val_predict\n",
        "from sklearn.model_selection import GridSearchCV\n",
        "from sklearn.model_selection import RandomizedSearchCV\n",
        "from sklearn.feature_selection import chi2\n",
        "from sklearn.feature_selection import SelectKBest, SelectPercentile\n",
        "from sklearn.feature_selection import VarianceThreshold, mutual_info_classif, mutual_info_regression\n",
        "from sklearn.feature_selection import mutual_info_classif\n",
        "from sklearn import metrics"
      ]
    },
    {
      "cell_type": "code",
      "execution_count": null,
      "metadata": {
        "id": "uIXv4BvH1yw1"
      },
      "outputs": [],
      "source": [
        "df = pd.read_csv('hw5_data.csv')"
      ]
    },
    {
      "cell_type": "markdown",
      "metadata": {
        "id": "syyY9DPA1yw2"
      },
      "source": [
        "I tried to shorten the time quite a bit because I had problems as the training time got longer in Colab, so I proceeded by using a sample from the data. In order to reduce the training time, I reduced the number of rows in the dataset with a random selection."
      ]
    },
    {
      "cell_type": "code",
      "execution_count": null,
      "metadata": {
        "id": "dItTTtCV1yw2"
      },
      "outputs": [],
      "source": [
        "df = df.sample(frac=0.025)"
      ]
    },
    {
      "cell_type": "code",
      "execution_count": null,
      "metadata": {
        "id": "niMQuzqa1yw2",
        "outputId": "70c01213-c5d4-4c6f-8987-70b58b10aab4"
      },
      "outputs": [
        {
          "data": {
            "text/html": [
              "<div>\n",
              "<style scoped>\n",
              "    .dataframe tbody tr th:only-of-type {\n",
              "        vertical-align: middle;\n",
              "    }\n",
              "\n",
              "    .dataframe tbody tr th {\n",
              "        vertical-align: top;\n",
              "    }\n",
              "\n",
              "    .dataframe thead th {\n",
              "        text-align: right;\n",
              "    }\n",
              "</style>\n",
              "<table border=\"1\" class=\"dataframe\">\n",
              "  <thead>\n",
              "    <tr style=\"text-align: right;\">\n",
              "      <th></th>\n",
              "      <th>Virtual</th>\n",
              "      <th>Offset</th>\n",
              "      <th>loc</th>\n",
              "      <th>Import</th>\n",
              "      <th>Imports</th>\n",
              "      <th>var</th>\n",
              "      <th>Forwarder</th>\n",
              "      <th>UINT</th>\n",
              "      <th>LONG</th>\n",
              "      <th>BOOL</th>\n",
              "      <th>...</th>\n",
              "      <th>Img99</th>\n",
              "      <th>Img100</th>\n",
              "      <th>Img101</th>\n",
              "      <th>Img102</th>\n",
              "      <th>Img103</th>\n",
              "      <th>Img104</th>\n",
              "      <th>Img105</th>\n",
              "      <th>Img106</th>\n",
              "      <th>Img107</th>\n",
              "      <th>target</th>\n",
              "    </tr>\n",
              "  </thead>\n",
              "  <tbody>\n",
              "    <tr>\n",
              "      <th>3391</th>\n",
              "      <td>3.0</td>\n",
              "      <td>3.0</td>\n",
              "      <td>2091.0</td>\n",
              "      <td>21.000000</td>\n",
              "      <td>7.0</td>\n",
              "      <td>4035.000000</td>\n",
              "      <td>7.0</td>\n",
              "      <td>19.0</td>\n",
              "      <td>10.000000</td>\n",
              "      <td>46.0</td>\n",
              "      <td>...</td>\n",
              "      <td>18212.983176</td>\n",
              "      <td>106337.775924</td>\n",
              "      <td>67100.247626</td>\n",
              "      <td>16405.676519</td>\n",
              "      <td>27805.574499</td>\n",
              "      <td>-35794.084701</td>\n",
              "      <td>-97220.374394</td>\n",
              "      <td>21876.000000</td>\n",
              "      <td>18434.0</td>\n",
              "      <td>2</td>\n",
              "    </tr>\n",
              "    <tr>\n",
              "      <th>2304</th>\n",
              "      <td>3.0</td>\n",
              "      <td>3.0</td>\n",
              "      <td>524.0</td>\n",
              "      <td>12.000000</td>\n",
              "      <td>4.0</td>\n",
              "      <td>1531.000000</td>\n",
              "      <td>4.0</td>\n",
              "      <td>2.0</td>\n",
              "      <td>1.000000</td>\n",
              "      <td>13.0</td>\n",
              "      <td>...</td>\n",
              "      <td>120644.694404</td>\n",
              "      <td>-17003.846071</td>\n",
              "      <td>-139864.026190</td>\n",
              "      <td>-2771.818728</td>\n",
              "      <td>-101191.754673</td>\n",
              "      <td>102824.693334</td>\n",
              "      <td>-196943.897687</td>\n",
              "      <td>7764.000000</td>\n",
              "      <td>6581.0</td>\n",
              "      <td>8</td>\n",
              "    </tr>\n",
              "    <tr>\n",
              "      <th>1197</th>\n",
              "      <td>3.0</td>\n",
              "      <td>3.0</td>\n",
              "      <td>528.0</td>\n",
              "      <td>2765.824233</td>\n",
              "      <td>5.0</td>\n",
              "      <td>1576.000000</td>\n",
              "      <td>5.0</td>\n",
              "      <td>6.0</td>\n",
              "      <td>68431.698364</td>\n",
              "      <td>30.0</td>\n",
              "      <td>...</td>\n",
              "      <td>98126.790003</td>\n",
              "      <td>-199544.151843</td>\n",
              "      <td>37512.711100</td>\n",
              "      <td>-31327.030319</td>\n",
              "      <td>50290.738429</td>\n",
              "      <td>83105.400163</td>\n",
              "      <td>-28737.766020</td>\n",
              "      <td>7681.000000</td>\n",
              "      <td>5908.0</td>\n",
              "      <td>8</td>\n",
              "    </tr>\n",
              "    <tr>\n",
              "      <th>3740</th>\n",
              "      <td>3.0</td>\n",
              "      <td>3.0</td>\n",
              "      <td>547.0</td>\n",
              "      <td>15.000000</td>\n",
              "      <td>5.0</td>\n",
              "      <td>1574.000000</td>\n",
              "      <td>5.0</td>\n",
              "      <td>6.0</td>\n",
              "      <td>7.000000</td>\n",
              "      <td>30.0</td>\n",
              "      <td>...</td>\n",
              "      <td>-32798.235424</td>\n",
              "      <td>104116.259102</td>\n",
              "      <td>-83129.085289</td>\n",
              "      <td>12685.863019</td>\n",
              "      <td>80126.902221</td>\n",
              "      <td>-40249.088301</td>\n",
              "      <td>-42316.328290</td>\n",
              "      <td>7666.000000</td>\n",
              "      <td>6442.0</td>\n",
              "      <td>9</td>\n",
              "    </tr>\n",
              "    <tr>\n",
              "      <th>1964</th>\n",
              "      <td>3.0</td>\n",
              "      <td>3.0</td>\n",
              "      <td>21.0</td>\n",
              "      <td>12.000000</td>\n",
              "      <td>4.0</td>\n",
              "      <td>17.000000</td>\n",
              "      <td>4.0</td>\n",
              "      <td>11.0</td>\n",
              "      <td>0.000000</td>\n",
              "      <td>11.0</td>\n",
              "      <td>...</td>\n",
              "      <td>-62807.837180</td>\n",
              "      <td>55738.021899</td>\n",
              "      <td>-102132.572944</td>\n",
              "      <td>34975.159936</td>\n",
              "      <td>43602.010752</td>\n",
              "      <td>-108665.335417</td>\n",
              "      <td>191495.310819</td>\n",
              "      <td>72176.000000</td>\n",
              "      <td>68037.0</td>\n",
              "      <td>3</td>\n",
              "    </tr>\n",
              "    <tr>\n",
              "      <th>...</th>\n",
              "      <td>...</td>\n",
              "      <td>...</td>\n",
              "      <td>...</td>\n",
              "      <td>...</td>\n",
              "      <td>...</td>\n",
              "      <td>...</td>\n",
              "      <td>...</td>\n",
              "      <td>...</td>\n",
              "      <td>...</td>\n",
              "      <td>...</td>\n",
              "      <td>...</td>\n",
              "      <td>...</td>\n",
              "      <td>...</td>\n",
              "      <td>...</td>\n",
              "      <td>...</td>\n",
              "      <td>...</td>\n",
              "      <td>...</td>\n",
              "      <td>...</td>\n",
              "      <td>...</td>\n",
              "      <td>...</td>\n",
              "      <td>...</td>\n",
              "    </tr>\n",
              "    <tr>\n",
              "      <th>4779</th>\n",
              "      <td>3.0</td>\n",
              "      <td>3.0</td>\n",
              "      <td>15.0</td>\n",
              "      <td>12.000000</td>\n",
              "      <td>4.0</td>\n",
              "      <td>15.000000</td>\n",
              "      <td>4.0</td>\n",
              "      <td>9.0</td>\n",
              "      <td>0.000000</td>\n",
              "      <td>16.0</td>\n",
              "      <td>...</td>\n",
              "      <td>185676.210287</td>\n",
              "      <td>171707.944095</td>\n",
              "      <td>-73792.647359</td>\n",
              "      <td>35597.619836</td>\n",
              "      <td>-160161.744730</td>\n",
              "      <td>91173.328878</td>\n",
              "      <td>88329.486873</td>\n",
              "      <td>95417.916534</td>\n",
              "      <td>68244.0</td>\n",
              "      <td>3</td>\n",
              "    </tr>\n",
              "    <tr>\n",
              "      <th>3519</th>\n",
              "      <td>3.0</td>\n",
              "      <td>3.0</td>\n",
              "      <td>23.0</td>\n",
              "      <td>12.000000</td>\n",
              "      <td>4.0</td>\n",
              "      <td>55869.152345</td>\n",
              "      <td>4.0</td>\n",
              "      <td>11.0</td>\n",
              "      <td>0.000000</td>\n",
              "      <td>11.0</td>\n",
              "      <td>...</td>\n",
              "      <td>30726.521262</td>\n",
              "      <td>102543.453989</td>\n",
              "      <td>229192.343948</td>\n",
              "      <td>95480.197218</td>\n",
              "      <td>318062.432053</td>\n",
              "      <td>-7006.286145</td>\n",
              "      <td>17581.019284</td>\n",
              "      <td>71644.000000</td>\n",
              "      <td>68124.0</td>\n",
              "      <td>3</td>\n",
              "    </tr>\n",
              "    <tr>\n",
              "      <th>613</th>\n",
              "      <td>3.0</td>\n",
              "      <td>3.0</td>\n",
              "      <td>681.0</td>\n",
              "      <td>21.000000</td>\n",
              "      <td>7.0</td>\n",
              "      <td>573.000000</td>\n",
              "      <td>7.0</td>\n",
              "      <td>24.0</td>\n",
              "      <td>73760.656467</td>\n",
              "      <td>61.0</td>\n",
              "      <td>...</td>\n",
              "      <td>68356.431268</td>\n",
              "      <td>-77412.968561</td>\n",
              "      <td>109992.222007</td>\n",
              "      <td>48641.999063</td>\n",
              "      <td>-27875.110365</td>\n",
              "      <td>26929.335794</td>\n",
              "      <td>-75896.110175</td>\n",
              "      <td>242036.000000</td>\n",
              "      <td>191487.0</td>\n",
              "      <td>2</td>\n",
              "    </tr>\n",
              "    <tr>\n",
              "      <th>1612</th>\n",
              "      <td>3.0</td>\n",
              "      <td>3.0</td>\n",
              "      <td>476.0</td>\n",
              "      <td>12.000000</td>\n",
              "      <td>4.0</td>\n",
              "      <td>430.000000</td>\n",
              "      <td>4.0</td>\n",
              "      <td>12.0</td>\n",
              "      <td>41821.475328</td>\n",
              "      <td>17.0</td>\n",
              "      <td>...</td>\n",
              "      <td>-53273.358823</td>\n",
              "      <td>75096.257997</td>\n",
              "      <td>156237.543925</td>\n",
              "      <td>84702.621369</td>\n",
              "      <td>-57781.611903</td>\n",
              "      <td>89720.411587</td>\n",
              "      <td>132076.069932</td>\n",
              "      <td>235174.000000</td>\n",
              "      <td>152325.0</td>\n",
              "      <td>2</td>\n",
              "    </tr>\n",
              "    <tr>\n",
              "      <th>327</th>\n",
              "      <td>3.0</td>\n",
              "      <td>3.0</td>\n",
              "      <td>1425.0</td>\n",
              "      <td>9.000000</td>\n",
              "      <td>3.0</td>\n",
              "      <td>445.000000</td>\n",
              "      <td>3.0</td>\n",
              "      <td>24.0</td>\n",
              "      <td>5.000000</td>\n",
              "      <td>43.0</td>\n",
              "      <td>...</td>\n",
              "      <td>162441.289770</td>\n",
              "      <td>-140483.566108</td>\n",
              "      <td>92849.009961</td>\n",
              "      <td>121442.530443</td>\n",
              "      <td>-74694.729883</td>\n",
              "      <td>-97095.241474</td>\n",
              "      <td>56689.849807</td>\n",
              "      <td>39057.140967</td>\n",
              "      <td>2926.0</td>\n",
              "      <td>5</td>\n",
              "    </tr>\n",
              "  </tbody>\n",
              "</table>\n",
              "<p>125 rows × 1805 columns</p>\n",
              "</div>"
            ],
            "text/plain": [
              "      Virtual  Offset     loc       Import  Imports           var  Forwarder  \\\n",
              "3391      3.0     3.0  2091.0    21.000000      7.0   4035.000000        7.0   \n",
              "2304      3.0     3.0   524.0    12.000000      4.0   1531.000000        4.0   \n",
              "1197      3.0     3.0   528.0  2765.824233      5.0   1576.000000        5.0   \n",
              "3740      3.0     3.0   547.0    15.000000      5.0   1574.000000        5.0   \n",
              "1964      3.0     3.0    21.0    12.000000      4.0     17.000000        4.0   \n",
              "...       ...     ...     ...          ...      ...           ...        ...   \n",
              "4779      3.0     3.0    15.0    12.000000      4.0     15.000000        4.0   \n",
              "3519      3.0     3.0    23.0    12.000000      4.0  55869.152345        4.0   \n",
              "613       3.0     3.0   681.0    21.000000      7.0    573.000000        7.0   \n",
              "1612      3.0     3.0   476.0    12.000000      4.0    430.000000        4.0   \n",
              "327       3.0     3.0  1425.0     9.000000      3.0    445.000000        3.0   \n",
              "\n",
              "      UINT          LONG  BOOL  ...          Img99         Img100  \\\n",
              "3391  19.0     10.000000  46.0  ...   18212.983176  106337.775924   \n",
              "2304   2.0      1.000000  13.0  ...  120644.694404  -17003.846071   \n",
              "1197   6.0  68431.698364  30.0  ...   98126.790003 -199544.151843   \n",
              "3740   6.0      7.000000  30.0  ...  -32798.235424  104116.259102   \n",
              "1964  11.0      0.000000  11.0  ...  -62807.837180   55738.021899   \n",
              "...    ...           ...   ...  ...            ...            ...   \n",
              "4779   9.0      0.000000  16.0  ...  185676.210287  171707.944095   \n",
              "3519  11.0      0.000000  11.0  ...   30726.521262  102543.453989   \n",
              "613   24.0  73760.656467  61.0  ...   68356.431268  -77412.968561   \n",
              "1612  12.0  41821.475328  17.0  ...  -53273.358823   75096.257997   \n",
              "327   24.0      5.000000  43.0  ...  162441.289770 -140483.566108   \n",
              "\n",
              "             Img101         Img102         Img103         Img104  \\\n",
              "3391   67100.247626   16405.676519   27805.574499  -35794.084701   \n",
              "2304 -139864.026190   -2771.818728 -101191.754673  102824.693334   \n",
              "1197   37512.711100  -31327.030319   50290.738429   83105.400163   \n",
              "3740  -83129.085289   12685.863019   80126.902221  -40249.088301   \n",
              "1964 -102132.572944   34975.159936   43602.010752 -108665.335417   \n",
              "...             ...            ...            ...            ...   \n",
              "4779  -73792.647359   35597.619836 -160161.744730   91173.328878   \n",
              "3519  229192.343948   95480.197218  318062.432053   -7006.286145   \n",
              "613   109992.222007   48641.999063  -27875.110365   26929.335794   \n",
              "1612  156237.543925   84702.621369  -57781.611903   89720.411587   \n",
              "327    92849.009961  121442.530443  -74694.729883  -97095.241474   \n",
              "\n",
              "             Img105         Img106    Img107  target  \n",
              "3391  -97220.374394   21876.000000   18434.0       2  \n",
              "2304 -196943.897687    7764.000000    6581.0       8  \n",
              "1197  -28737.766020    7681.000000    5908.0       8  \n",
              "3740  -42316.328290    7666.000000    6442.0       9  \n",
              "1964  191495.310819   72176.000000   68037.0       3  \n",
              "...             ...            ...       ...     ...  \n",
              "4779   88329.486873   95417.916534   68244.0       3  \n",
              "3519   17581.019284   71644.000000   68124.0       3  \n",
              "613   -75896.110175  242036.000000  191487.0       2  \n",
              "1612  132076.069932  235174.000000  152325.0       2  \n",
              "327    56689.849807   39057.140967    2926.0       5  \n",
              "\n",
              "[125 rows x 1805 columns]"
            ]
          },
          "execution_count": 7,
          "metadata": {},
          "output_type": "execute_result"
        }
      ],
      "source": [
        "df"
      ]
    },
    {
      "cell_type": "code",
      "execution_count": null,
      "metadata": {
        "collapsed": true,
        "jupyter": {
          "outputs_hidden": true
        },
        "id": "ILCY8EDo1yw3",
        "outputId": "d1fd4f7f-4669-4bc6-cf68-5d3e583e75d2"
      },
      "outputs": [
        {
          "name": "stderr",
          "output_type": "stream",
          "text": [
            "C:\\Anaconda3\\lib\\site-packages\\ipykernel_launcher.py:1: UserWarning: Pandas doesn't allow columns to be created via a new attribute name - see https://pandas.pydata.org/pandas-docs/stable/indexing.html#attribute-access\n",
            "  \"\"\"Entry point for launching an IPython kernel.\n"
          ]
        }
      ],
      "source": [
        "df.data=df.columns.drop('target')"
      ]
    },
    {
      "cell_type": "code",
      "execution_count": null,
      "metadata": {
        "id": "l3ZnFLiy1yw3"
      },
      "outputs": [],
      "source": [
        "features=df.data"
      ]
    },
    {
      "cell_type": "code",
      "execution_count": null,
      "metadata": {
        "id": "nDf-trLn1yw4"
      },
      "outputs": [],
      "source": [
        "x=df[features]"
      ]
    },
    {
      "cell_type": "code",
      "execution_count": null,
      "metadata": {
        "id": "uVLp8eLL1yw4"
      },
      "outputs": [],
      "source": [
        "y=df.target"
      ]
    },
    {
      "cell_type": "code",
      "execution_count": null,
      "metadata": {
        "id": "W9Glq-Gx1yw4",
        "outputId": "b8d00418-19f7-41f3-cd9f-f1ca74d896f7"
      },
      "outputs": [
        {
          "data": {
            "text/plain": [
              "(125, 1804)"
            ]
          },
          "execution_count": 12,
          "metadata": {},
          "output_type": "execute_result"
        }
      ],
      "source": [
        "x.shape"
      ]
    },
    {
      "cell_type": "code",
      "execution_count": null,
      "metadata": {
        "id": "-DG2FzDy1yw4",
        "outputId": "8ee221b4-c2d5-4044-a638-9ede54e33e5c"
      },
      "outputs": [
        {
          "data": {
            "text/plain": [
              "(100, 1804)"
            ]
          },
          "execution_count": 13,
          "metadata": {},
          "output_type": "execute_result"
        }
      ],
      "source": [
        "X_train, X_test, Y_train, Y_test=train_test_split(x, y, test_size=0.2, random_state=0)\n",
        "X_train.shape"
      ]
    },
    {
      "cell_type": "code",
      "execution_count": null,
      "metadata": {
        "id": "FTu08y2r1yw5"
      },
      "outputs": [],
      "source": [
        "constant_filter = VarianceThreshold(threshold=0.01)\n",
        "constant_filter.fit(X_train)\n",
        "X_train_filter = constant_filter.transform(X_train)\n",
        "X_test_filter = constant_filter.transform(X_test)"
      ]
    },
    {
      "cell_type": "code",
      "execution_count": null,
      "metadata": {
        "id": "t4yLFYKX1yw5",
        "outputId": "3cedb149-6452-46b2-ffec-ff2c20d120c6"
      },
      "outputs": [
        {
          "data": {
            "text/plain": [
              "(100, 1804)"
            ]
          },
          "execution_count": 15,
          "metadata": {},
          "output_type": "execute_result"
        }
      ],
      "source": [
        "X_train.shape"
      ]
    },
    {
      "cell_type": "markdown",
      "metadata": {
        "id": "SyYptzsQ1yw5"
      },
      "source": [
        "MI<br>\n",
        "I calculated Mutual information to find the features most correlated with the classes. When we look at the mutual information graph below, it seems more logical to use 40% features with high MI value for training, but since my aim was to try more than one model and also because I had limited time, I took the 2% that was most correlated with the class values and used it for train."
      ]
    },
    {
      "cell_type": "code",
      "execution_count": null,
      "metadata": {
        "id": "39DkO5OF1yw5"
      },
      "outputs": [],
      "source": [
        "mi=mutual_info_classif(X_train,Y_train)"
      ]
    },
    {
      "cell_type": "code",
      "execution_count": null,
      "metadata": {
        "id": "bqp-Homj1yw6",
        "outputId": "a208246e-8a57-4843-926f-48b4a8ad4eb3"
      },
      "outputs": [
        {
          "data": {
            "text/plain": [
              "1804"
            ]
          },
          "execution_count": 17,
          "metadata": {},
          "output_type": "execute_result"
        }
      ],
      "source": [
        "len(mi)"
      ]
    },
    {
      "cell_type": "code",
      "execution_count": null,
      "metadata": {
        "id": "H0AAT2yY1yw6"
      },
      "outputs": [],
      "source": [
        "mi = pd.Series(mi)\n",
        "mi.index = X_train.columns"
      ]
    },
    {
      "cell_type": "code",
      "execution_count": null,
      "metadata": {
        "id": "MXmfq0OL1yw6"
      },
      "outputs": [],
      "source": [
        "mi.sort_values(ascending=False, inplace = True)"
      ]
    },
    {
      "cell_type": "code",
      "execution_count": null,
      "metadata": {
        "id": "t6_99KVg1yw6",
        "outputId": "e9ab88f7-7943-4e2b-8968-cd6733c77cc5"
      },
      "outputs": [
        {
          "data": {
            "image/png": "[encoded data removed]",
            "text/plain": [
              "<Figure size 1440x360 with 1 Axes>"
            ]
          },
          "metadata": {
            "needs_background": "light"
          },
          "output_type": "display_data"
        }
      ],
      "source": [
        "plt.title('Mutual information with respect to features')\n",
        "mi.plot.bar(figsize = (20,5))\n",
        "plt.show()"
      ]
    },
    {
      "cell_type": "code",
      "execution_count": null,
      "metadata": {
        "id": "lKulToWp1yw6",
        "outputId": "5c0c91c3-16b0-4dea-fb1e-e66f13312947"
      },
      "outputs": [
        {
          "data": {
            "text/plain": [
              "Index(['BYTES', 'DATA', 'ent_q_diffs_median', 'ent_q_diff_diffs_max-min',\n",
              "       'ent_q_diff_block_0_18', 'ent_q_diff_diffs_0_mean',\n",
              "       'ent_q_diff_diffs_2_median', 'ent_q_diff_diffs_2_min',\n",
              "       'ent_q_diff_diffs_2_max-min', 'ent_p_1', 'ent_p_2', 'ent_p_3',\n",
              "       'ent_p_11', 'ent_p_12', 'ent_p_diffs_3', 'ent_p_diffs_4',\n",
              "       'ent_p_diffs_5', 'section_names_header', '_initterm', 'exit', 'TB_44',\n",
              "       'TB_45', 'TB_55', 'TB_9f', 'Img1', 'Img2', 'Img4', 'Img9', 'Img12',\n",
              "       'Img13', 'Img15', 'Img17', 'Img35', 'Img39', 'Img40', 'Img41', 'Img43'],\n",
              "      dtype='object')"
            ]
          },
          "execution_count": 21,
          "metadata": {},
          "output_type": "execute_result"
        }
      ],
      "source": [
        "sel = SelectPercentile(mutual_info_classif, percentile=2).fit(X_train, Y_train)\n",
        "X_train.columns[sel.get_support()]"
      ]
    },
    {
      "cell_type": "code",
      "execution_count": null,
      "metadata": {
        "id": "XpBcG1g31yw7",
        "outputId": "50f2c1ed-f1ee-4472-c175-fffe55e29ed0"
      },
      "outputs": [
        {
          "data": {
            "text/plain": [
              "37"
            ]
          },
          "execution_count": 22,
          "metadata": {},
          "output_type": "execute_result"
        }
      ],
      "source": [
        "len(X_train.columns[sel.get_support()])"
      ]
    },
    {
      "cell_type": "code",
      "execution_count": null,
      "metadata": {
        "id": "QJJLGDEL1yw7",
        "outputId": "4993254d-d869-4ab0-c15f-54073486b69a"
      },
      "outputs": [
        {
          "data": {
            "text/plain": [
              "(100, 37)"
            ]
          },
          "execution_count": 23,
          "metadata": {},
          "output_type": "execute_result"
        }
      ],
      "source": [
        "X_train_mi = sel.transform(X_train)\n",
        "X_test_mi = sel.transform(X_test)\n",
        "X_train_mi.shape"
      ]
    },
    {
      "cell_type": "markdown",
      "metadata": {
        "id": "Wwk0cBEq1yw7"
      },
      "source": [
        "Support Vector Machine<br>I tried the support vector machine method as the first model. First, I implemented the model using deafult parameters in the linear kernel. Then I took the best parameters using GridSearchCV and used the model in that way and calculated the scores when k-fold cross validation was applied. Accuracy increased when cross validation is applied."
      ]
    },
    {
      "cell_type": "code",
      "execution_count": null,
      "metadata": {
        "id": "D8-RJNSz1yw7"
      },
      "outputs": [],
      "source": [
        "clf = SVC(kernel='linear') # Linear Kernel\n",
        "\n",
        "#Train the model using the training sets\n",
        "clf.fit(X_train, Y_train)\n",
        "\n",
        "#Predict the response for test dataset\n",
        "y_pred = clf.predict(X_test)"
      ]
    },
    {
      "cell_type": "code",
      "execution_count": null,
      "metadata": {
        "id": "w40mEazY1yw7",
        "outputId": "a575a972-c046-46ea-ad44-276ba294b000"
      },
      "outputs": [
        {
          "name": "stdout",
          "output_type": "stream",
          "text": [
            "Accuracy: 0.56\n"
          ]
        }
      ],
      "source": [
        "print(\"Accuracy:\",metrics.accuracy_score(Y_test, y_pred))"
      ]
    },
    {
      "cell_type": "code",
      "execution_count": null,
      "metadata": {
        "collapsed": true,
        "jupyter": {
          "outputs_hidden": true
        },
        "id": "CCA8moH61yw8",
        "outputId": "2666c50e-f6c8-4ee9-a696-2b2d3dd2dff7"
      },
      "outputs": [
        {
          "name": "stderr",
          "output_type": "stream",
          "text": [
            "C:\\Anaconda3\\lib\\site-packages\\sklearn\\model_selection\\_split.py:667: UserWarning: The least populated class in y has only 2 members, which is less than n_splits=5.\n",
            "  % (min_groups, self.n_splits)), UserWarning)\n"
          ]
        },
        {
          "data": {
            "text/plain": [
              "GridSearchCV(cv=None, error_score=nan,\n",
              "             estimator=SVC(C=1.0, break_ties=False, cache_size=200,\n",
              "                           class_weight=None, coef0=0.0,\n",
              "                           decision_function_shape='ovr', degree=3,\n",
              "                           gamma='scale', kernel='rbf', max_iter=-1,\n",
              "                           probability=False, random_state=None, shrinking=True,\n",
              "                           tol=0.001, verbose=False),\n",
              "             iid='deprecated', n_jobs=None,\n",
              "             param_grid={'C': [0.1, 1, 10, 1000], 'degree': [1, 2, 3, 4, 5, 6],\n",
              "                         'kernel': ['rbf', 'poly', 'sigmoid', 'linear']},\n",
              "             pre_dispatch='2*n_jobs', refit=True, return_train_score=False,\n",
              "             scoring=None, verbose=0)"
            ]
          },
          "execution_count": 26,
          "metadata": {},
          "output_type": "execute_result"
        }
      ],
      "source": [
        "grid_parameters={'C':[0.1, 1 ,10, 1000], 'kernel':['rbf', 'poly', 'sigmoid', 'linear'], 'degree':[1,2,3,4,5,6]}\n",
        "grid=GridSearchCV(SVC(), grid_parameters)\n",
        "Model_s=grid.fit(X_train,Y_train)\n",
        "grid"
      ]
    },
    {
      "cell_type": "code",
      "execution_count": null,
      "metadata": {
        "id": "g-G9CCTN1yw8",
        "outputId": "3315ac30-6e28-47b2-9af0-cebc8a165faf"
      },
      "outputs": [
        {
          "name": "stdout",
          "output_type": "stream",
          "text": [
            "{'C': 0.1, 'degree': 1, 'kernel': 'linear'}\n",
            "0.68\n"
          ]
        }
      ],
      "source": [
        "print(grid.best_params_)\n",
        "print(grid.best_score_)"
      ]
    },
    {
      "cell_type": "code",
      "execution_count": null,
      "metadata": {
        "id": "8GeKDK5q1yw8",
        "outputId": "4a7bb163-a0e7-4372-ce06-576c1d1f297c"
      },
      "outputs": [
        {
          "data": {
            "text/plain": [
              "SVC(C=0.1, break_ties=False, cache_size=200, class_weight=None, coef0=0.0,\n",
              "    decision_function_shape='ovr', degree=1, gamma='scale', kernel='linear',\n",
              "    max_iter=-1, probability=False, random_state=None, shrinking=True,\n",
              "    tol=0.001, verbose=False)"
            ]
          },
          "execution_count": 122,
          "metadata": {},
          "output_type": "execute_result"
        }
      ],
      "source": [
        "svc_best=SVC(C=0.1, degree=1, kernel='linear')\n",
        "svc_best.fit(X_train, Y_train)"
      ]
    },
    {
      "cell_type": "code",
      "execution_count": null,
      "metadata": {
        "id": "PCDFKuCX1yw8",
        "outputId": "04f9d90f-8724-4d68-811f-fcdba2456672"
      },
      "outputs": [
        {
          "name": "stdout",
          "output_type": "stream",
          "text": [
            "Test set score:  0.56\n"
          ]
        }
      ],
      "source": [
        "print('Test set score: ', accuracy_score(Y_test, svc_best.predict(X_test)))"
      ]
    },
    {
      "cell_type": "code",
      "execution_count": null,
      "metadata": {
        "collapsed": true,
        "jupyter": {
          "outputs_hidden": true
        },
        "id": "2HdRXYxJ1yw8",
        "outputId": "30101c55-16ec-4acb-85b4-b287177359ea"
      },
      "outputs": [
        {
          "name": "stderr",
          "output_type": "stream",
          "text": [
            "C:\\Anaconda3\\lib\\site-packages\\sklearn\\model_selection\\_split.py:667: UserWarning: The least populated class in y has only 2 members, which is less than n_splits=5.\n",
            "  % (min_groups, self.n_splits)), UserWarning)\n",
            "C:\\Anaconda3\\lib\\site-packages\\sklearn\\model_selection\\_split.py:667: UserWarning: The least populated class in y has only 2 members, which is less than n_splits=5.\n",
            "  % (min_groups, self.n_splits)), UserWarning)\n",
            "C:\\Anaconda3\\lib\\site-packages\\sklearn\\model_selection\\_split.py:667: UserWarning: The least populated class in y has only 2 members, which is less than n_splits=5.\n",
            "  % (min_groups, self.n_splits)), UserWarning)\n",
            "C:\\Anaconda3\\lib\\site-packages\\sklearn\\model_selection\\_split.py:667: UserWarning: The least populated class in y has only 2 members, which is less than n_splits=5.\n",
            "  % (min_groups, self.n_splits)), UserWarning)\n",
            "C:\\Anaconda3\\lib\\site-packages\\sklearn\\model_selection\\_split.py:667: UserWarning: The least populated class in y has only 1 members, which is less than n_splits=5.\n",
            "  % (min_groups, self.n_splits)), UserWarning)\n",
            "C:\\Anaconda3\\lib\\site-packages\\sklearn\\model_selection\\_split.py:667: UserWarning: The least populated class in y has only 1 members, which is less than n_splits=5.\n",
            "  % (min_groups, self.n_splits)), UserWarning)\n"
          ]
        },
        {
          "data": {
            "text/plain": [
              "array([0.68, 0.64, 0.48, 0.68, 0.8 ])"
            ]
          },
          "execution_count": 39,
          "metadata": {},
          "output_type": "execute_result"
        }
      ],
      "source": [
        "scores=cross_val_score(Model_s,x,y,cv=5)\n",
        "scores"
      ]
    },
    {
      "cell_type": "code",
      "execution_count": null,
      "metadata": {
        "id": "zfIIp4z71yw9",
        "outputId": "c6140e0e-4ced-4b5f-b94f-5101669874a0"
      },
      "outputs": [
        {
          "name": "stdout",
          "output_type": "stream",
          "text": [
            "Avg Acc:  0.68  std dev:  0.08124038404635961  max:  0.8\n"
          ]
        }
      ],
      "source": [
        "print(\"Avg Acc: \" , scores.mean() , \" std dev: \", scores.std(), \" max: \", scores.max())"
      ]
    },
    {
      "cell_type": "markdown",
      "metadata": {
        "id": "pS7a-ywO1yw9"
      },
      "source": [
        "KNN<br>I chose KNN as another calssification model. First I applied the model with the default parameters and then I applied the model using the best parameters I got with GridSearchCV."
      ]
    },
    {
      "cell_type": "code",
      "execution_count": null,
      "metadata": {
        "id": "HcaDOshy1yw9"
      },
      "outputs": [],
      "source": [
        "knn = KNeighborsClassifier(n_neighbors=5)\n",
        "knn.fit(X_train, Y_train)\n",
        "y_pred = knn.predict(X_test)"
      ]
    },
    {
      "cell_type": "code",
      "execution_count": null,
      "metadata": {
        "id": "wB52J-cp1yw9",
        "outputId": "a3db35cd-0bac-4d3f-81ab-404e552635bc"
      },
      "outputs": [
        {
          "name": "stdout",
          "output_type": "stream",
          "text": [
            "Accuracy: 0.56\n"
          ]
        }
      ],
      "source": [
        "print(\"Accuracy:\",metrics.accuracy_score(Y_test, y_pred))"
      ]
    },
    {
      "cell_type": "code",
      "execution_count": null,
      "metadata": {
        "collapsed": true,
        "jupyter": {
          "outputs_hidden": true
        },
        "id": "IYFZC5iO1yw9",
        "outputId": "7d0c7975-6ef8-4164-d9f9-b6ff5c04a74d"
      },
      "outputs": [
        {
          "name": "stdout",
          "output_type": "stream",
          "text": [
            "Fitting 3 folds for each of 36 candidates, totalling 108 fits\n"
          ]
        },
        {
          "name": "stderr",
          "output_type": "stream",
          "text": [
            "C:\\Anaconda3\\lib\\site-packages\\sklearn\\model_selection\\_split.py:667: UserWarning: The least populated class in y has only 2 members, which is less than n_splits=3.\n",
            "  % (min_groups, self.n_splits)), UserWarning)\n",
            "[Parallel(n_jobs=-1)]: Using backend LokyBackend with 12 concurrent workers.\n",
            "[Parallel(n_jobs=-1)]: Done  26 tasks      | elapsed:   35.9s\n",
            "[Parallel(n_jobs=-1)]: Done 108 out of 108 | elapsed:   36.2s finished\n"
          ]
        }
      ],
      "source": [
        "grid_parametersK = { 'n_neighbors' : [5,7,9,11,13,15],\n",
        "               'weights' : ['uniform','distance'],\n",
        "               'metric' : ['minkowski','euclidean','manhattan']}\n",
        "\n",
        "gridK = GridSearchCV(KNeighborsClassifier(), grid_parametersK, verbose = 1, cv=3, n_jobs = -1)\n",
        "g_knn = gridK.fit(X_train, Y_train)\n",
        "\n"
      ]
    },
    {
      "cell_type": "code",
      "execution_count": null,
      "metadata": {
        "id": "I5Bo0Ibl1yw-",
        "outputId": "3f37b26f-be44-4b8c-dce3-085e22135c11"
      },
      "outputs": [
        {
          "name": "stdout",
          "output_type": "stream",
          "text": [
            "0.6316102198455139\n",
            "{'metric': 'manhattan', 'n_neighbors': 5, 'weights': 'distance'}\n"
          ]
        }
      ],
      "source": [
        "print(g_knn.best_score_)\n",
        "print(g_knn.best_params_)"
      ]
    },
    {
      "cell_type": "code",
      "execution_count": null,
      "metadata": {
        "id": "qUsYCSkh1yw-",
        "outputId": "eba15593-7d7e-4300-9c9e-a21ccffd7a9e"
      },
      "outputs": [
        {
          "data": {
            "text/plain": [
              "KNeighborsClassifier(algorithm='brute', leaf_size=30, metric='manhattan',\n",
              "                     metric_params=None, n_jobs=None, n_neighbors=5, p=2,\n",
              "                     weights='distance')"
            ]
          },
          "execution_count": 47,
          "metadata": {},
          "output_type": "execute_result"
        }
      ],
      "source": [
        "knn = KNeighborsClassifier(n_neighbors = 5, weights = 'distance',algorithm = 'brute',metric = 'manhattan')\n",
        "knn.fit(X_train, Y_train)"
      ]
    },
    {
      "cell_type": "code",
      "execution_count": null,
      "metadata": {
        "id": "JRm8VNOk1yw-"
      },
      "outputs": [],
      "source": [
        "y_hat = knn.predict(X_train)\n",
        "y_knn = knn.predict(X_test)"
      ]
    },
    {
      "cell_type": "code",
      "execution_count": null,
      "metadata": {
        "id": "dHiudyDM1yw_",
        "outputId": "6747a404-b5da-4143-fcc9-ddeb6f92b7b1"
      },
      "outputs": [
        {
          "name": "stdout",
          "output_type": "stream",
          "text": [
            "Training set accuracy:  1.0\n",
            "Test set accuracy:  0.64\n"
          ]
        }
      ],
      "source": [
        "print('Training set accuracy: ', metrics.accuracy_score(Y_train, y_hat))\n",
        "print('Test set accuracy: ',metrics.accuracy_score(Y_test, y_knn))"
      ]
    },
    {
      "cell_type": "code",
      "execution_count": null,
      "metadata": {
        "collapsed": true,
        "jupyter": {
          "outputs_hidden": true
        },
        "id": "DOS4eI7I1yw_",
        "outputId": "c2f4ea8e-bfb2-4f6c-e662-b608cd9ded22"
      },
      "outputs": [
        {
          "name": "stderr",
          "output_type": "stream",
          "text": [
            "C:\\Anaconda3\\lib\\site-packages\\sklearn\\model_selection\\_split.py:667: UserWarning: The least populated class in y has only 2 members, which is less than n_splits=5.\n",
            "  % (min_groups, self.n_splits)), UserWarning)\n"
          ]
        }
      ],
      "source": [
        "scoresK = cross_val_score(knn, x, y, cv =5)"
      ]
    },
    {
      "cell_type": "code",
      "execution_count": null,
      "metadata": {
        "id": "yx3jrwaf1yw_",
        "outputId": "4c800e99-31fa-4fc7-b1d5-eedf10c0901d"
      },
      "outputs": [
        {
          "name": "stdout",
          "output_type": "stream",
          "text": [
            "Model accuracy:  0.624\n"
          ]
        }
      ],
      "source": [
        "print('Model accuracy: ',np.mean(scores))"
      ]
    },
    {
      "cell_type": "markdown",
      "metadata": {
        "id": "trt4Q_qC1yw_"
      },
      "source": [
        "Random Forest Classifier<br>I used Random Forest method in this part. First I applied the model using the default hyperparameters and then using the parameters that gave the best results I got with GridSearch."
      ]
    },
    {
      "cell_type": "code",
      "execution_count": null,
      "metadata": {
        "id": "UO3SsOKA1yxA"
      },
      "outputs": [],
      "source": [
        "Rforest=RandomForestClassifier(random_state=6)"
      ]
    },
    {
      "cell_type": "code",
      "execution_count": null,
      "metadata": {
        "id": "x9gN1AG61yxA",
        "outputId": "17e330e7-8d43-40bd-c9e0-49b9fc5b647a"
      },
      "outputs": [
        {
          "data": {
            "text/plain": [
              "RandomForestClassifier(bootstrap=True, ccp_alpha=0.0, class_weight=None,\n",
              "                       criterion='gini', max_depth=None, max_features='auto',\n",
              "                       max_leaf_nodes=None, max_samples=None,\n",
              "                       min_impurity_decrease=0.0, min_impurity_split=None,\n",
              "                       min_samples_leaf=1, min_samples_split=2,\n",
              "                       min_weight_fraction_leaf=0.0, n_estimators=100,\n",
              "                       n_jobs=None, oob_score=False, random_state=6, verbose=0,\n",
              "                       warm_start=False)"
            ]
          },
          "execution_count": 64,
          "metadata": {},
          "output_type": "execute_result"
        }
      ],
      "source": [
        "Rforest.fit(X_train, Y_train)"
      ]
    },
    {
      "cell_type": "code",
      "execution_count": null,
      "metadata": {
        "id": "5EM_NfMR1yxA",
        "outputId": "b443ff69-d439-4bd6-847e-1c306ab7a25f"
      },
      "outputs": [
        {
          "data": {
            "text/plain": [
              "0.84"
            ]
          },
          "execution_count": 65,
          "metadata": {},
          "output_type": "execute_result"
        }
      ],
      "source": [
        "Rforest.score(X_test,Y_test)"
      ]
    },
    {
      "cell_type": "code",
      "execution_count": null,
      "metadata": {
        "collapsed": true,
        "jupyter": {
          "outputs_hidden": true
        },
        "id": "LtbyCaBt1yxA",
        "outputId": "65e70c8c-07db-4ce6-ebb4-14a650cc27b5"
      },
      "outputs": [
        {
          "name": "stderr",
          "output_type": "stream",
          "text": [
            "C:\\Anaconda3\\lib\\site-packages\\sklearn\\model_selection\\_split.py:667: UserWarning: The least populated class in y has only 2 members, which is less than n_splits=5.\n",
            "  % (min_groups, self.n_splits)), UserWarning)\n"
          ]
        },
        {
          "data": {
            "text/plain": [
              "GridSearchCV(cv=5, error_score=nan,\n",
              "             estimator=RandomForestClassifier(bootstrap=True, ccp_alpha=0.0,\n",
              "                                              class_weight=None,\n",
              "                                              criterion='gini', max_depth=None,\n",
              "                                              max_features='auto',\n",
              "                                              max_leaf_nodes=None,\n",
              "                                              max_samples=None,\n",
              "                                              min_impurity_decrease=0.0,\n",
              "                                              min_impurity_split=None,\n",
              "                                              min_samples_leaf=1,\n",
              "                                              min_samples_split=2,\n",
              "                                              min_weight_fraction_leaf=0.0,\n",
              "                                              n_estimators=100, n_jobs=None,\n",
              "                                              oob_score=False, random_state=42,\n",
              "                                              verbose=0, warm_start=False),\n",
              "             iid='deprecated', n_jobs=None,\n",
              "             param_grid={'criterion': ['gini', 'entropy'],\n",
              "                         'max_depth': [4, 5, 6, 7, 8],\n",
              "                         'max_features': ['auto', 'sqrt', 'log2'],\n",
              "                         'n_estimators': [200, 500]},\n",
              "             pre_dispatch='2*n_jobs', refit=True, return_train_score=False,\n",
              "             scoring=None, verbose=0)"
            ]
          },
          "execution_count": 82,
          "metadata": {},
          "output_type": "execute_result"
        }
      ],
      "source": [
        "RFC=RandomForestClassifier(random_state=42)\n",
        "param_grid = {\n",
        "    'n_estimators': [200, 500],\n",
        "    'max_features': ['auto', 'sqrt', 'log2'],\n",
        "    'max_depth' : [4,5,6,7,8],\n",
        "    'criterion' :['gini', 'entropy']\n",
        "}\n",
        "grid_RFC = GridSearchCV(estimator=RFC, param_grid=param_grid, cv= 5)\n",
        "grid_RFC.fit(X_train, Y_train)"
      ]
    },
    {
      "cell_type": "code",
      "execution_count": null,
      "metadata": {
        "id": "GfXQHCi21yxA",
        "outputId": "959dc17d-706d-490c-ab75-438e2a074f54"
      },
      "outputs": [
        {
          "data": {
            "text/plain": [
              "{'criterion': 'gini',\n",
              " 'max_depth': 8,\n",
              " 'max_features': 'auto',\n",
              " 'n_estimators': 500}"
            ]
          },
          "execution_count": 83,
          "metadata": {},
          "output_type": "execute_result"
        }
      ],
      "source": [
        "grid_RFC.best_params_"
      ]
    },
    {
      "cell_type": "code",
      "execution_count": null,
      "metadata": {
        "id": "OmRaBiNH1yxA",
        "outputId": "078e7163-afa0-42a1-8249-577115221e67"
      },
      "outputs": [
        {
          "data": {
            "text/plain": [
              "RandomForestClassifier(bootstrap=True, ccp_alpha=0.0, class_weight=None,\n",
              "                       criterion='gini', max_depth=8, max_features='auto',\n",
              "                       max_leaf_nodes=None, max_samples=None,\n",
              "                       min_impurity_decrease=0.0, min_impurity_split=None,\n",
              "                       min_samples_leaf=1, min_samples_split=2,\n",
              "                       min_weight_fraction_leaf=0.0, n_estimators=500,\n",
              "                       n_jobs=None, oob_score=False, random_state=42, verbose=0,\n",
              "                       warm_start=False)"
            ]
          },
          "execution_count": 85,
          "metadata": {},
          "output_type": "execute_result"
        }
      ],
      "source": [
        "RFC_b=RandomForestClassifier(random_state=42, max_features='auto', n_estimators= 500, max_depth=8, criterion='gini')\n",
        "RFC_b.fit(X_train, Y_train)"
      ]
    },
    {
      "cell_type": "code",
      "execution_count": null,
      "metadata": {
        "id": "cPmQ60-b1yxB"
      },
      "outputs": [],
      "source": [
        "predict_RF=RFC_b.predict(X_test)"
      ]
    },
    {
      "cell_type": "code",
      "execution_count": null,
      "metadata": {
        "id": "nwcur0lW1yxB",
        "outputId": "d1dd9cd7-69a1-4081-8434-09109769fbf5"
      },
      "outputs": [
        {
          "name": "stdout",
          "output_type": "stream",
          "text": [
            "Accuracy for Random Forest on CV data:  0.84\n"
          ]
        }
      ],
      "source": [
        "print(\"Accuracy for Random Forest on CV data: \",accuracy_score(Y_test,predict_RF))"
      ]
    },
    {
      "cell_type": "markdown",
      "metadata": {
        "id": "HNFz0r7_1yxB"
      },
      "source": [
        "Logistic Regression<br>\n",
        "I applied the logistic regression model first with the default hyperparameters and then with the best parameters I got."
      ]
    },
    {
      "cell_type": "code",
      "execution_count": null,
      "metadata": {
        "id": "ogviKn_O1yxB",
        "outputId": "604c674f-b109-47e2-f710-c295f4ad977b"
      },
      "outputs": [
        {
          "data": {
            "text/plain": [
              "LogisticRegression(C=0.01, class_weight=None, dual=False, fit_intercept=True,\n",
              "                   intercept_scaling=1, l1_ratio=None, max_iter=1000,\n",
              "                   multi_class='auto', n_jobs=None, penalty='l2',\n",
              "                   random_state=None, solver='lbfgs', tol=0.0001, verbose=0,\n",
              "                   warm_start=False)"
            ]
          },
          "execution_count": 92,
          "metadata": {},
          "output_type": "execute_result"
        }
      ],
      "source": [
        "lr = LogisticRegression(C=0.01, max_iter=1000)\n",
        "lr.fit(X_train, Y_train)"
      ]
    },
    {
      "cell_type": "code",
      "execution_count": null,
      "metadata": {
        "id": "8Pcr9LEx1yxB",
        "outputId": "3142cd8b-e263-45fd-ca1c-69912bb6e6b8"
      },
      "outputs": [
        {
          "name": "stdout",
          "output_type": "stream",
          "text": [
            "<bound method ClassifierMixin.score of LogisticRegression(C=0.01, class_weight=None, dual=False, fit_intercept=True,\n",
            "                   intercept_scaling=1, l1_ratio=None, max_iter=1000,\n",
            "                   multi_class='auto', n_jobs=None, penalty='l2',\n",
            "                   random_state=None, solver='lbfgs', tol=0.0001, verbose=0,\n",
            "                   warm_start=False)>\n",
            "0.64\n"
          ]
        }
      ],
      "source": [
        "predict_lr=lr.predict(X_test)\n",
        "print(lr.score)\n",
        "print(accuracy_score(Y_test,predict_lr))"
      ]
    },
    {
      "cell_type": "code",
      "execution_count": null,
      "metadata": {
        "id": "weO3vFl41yxC"
      },
      "outputs": [],
      "source": [
        "param_grid_lr = [\n",
        "    {'penalty' : ['l1', 'l2', 'elasticnet', 'none'],\n",
        "    'C' : np.logspace(-4, 4, 20),\n",
        "    'solver' : ['lbfgs','newton-cg','liblinear','sag','saga'],\n",
        "    'max_iter' : [100, 1000,2500, 5000]\n",
        "    }\n",
        "]"
      ]
    },
    {
      "cell_type": "code",
      "execution_count": null,
      "metadata": {
        "id": "oMa2Q6tL1yxC"
      },
      "outputs": [],
      "source": [
        "grid_lr = GridSearchCV(lr, param_grid = param_grid_lr, cv = 3, verbose=True, n_jobs=-1)"
      ]
    },
    {
      "cell_type": "code",
      "execution_count": null,
      "metadata": {
        "collapsed": true,
        "jupyter": {
          "outputs_hidden": true
        },
        "id": "ziQvk5ad1yxC",
        "outputId": "73b22230-e587-4ea2-81c9-abbe885c5dc1"
      },
      "outputs": [
        {
          "name": "stdout",
          "output_type": "stream",
          "text": [
            "Fitting 3 folds for each of 1600 candidates, totalling 4800 fits\n"
          ]
        },
        {
          "name": "stderr",
          "output_type": "stream",
          "text": [
            "C:\\Anaconda3\\lib\\site-packages\\sklearn\\model_selection\\_split.py:667: UserWarning: The least populated class in y has only 2 members, which is less than n_splits=3.\n",
            "  % (min_groups, self.n_splits)), UserWarning)\n",
            "[Parallel(n_jobs=-1)]: Using backend LokyBackend with 12 concurrent workers.\n",
            "[Parallel(n_jobs=-1)]: Done  26 tasks      | elapsed:    4.4s\n",
            "[Parallel(n_jobs=-1)]: Done 176 tasks      | elapsed:  1.2min\n",
            "[Parallel(n_jobs=-1)]: Done 426 tasks      | elapsed:  4.0min\n",
            "[Parallel(n_jobs=-1)]: Done 776 tasks      | elapsed:  8.2min\n",
            "[Parallel(n_jobs=-1)]: Done 1226 tasks      | elapsed: 13.6min\n",
            "[Parallel(n_jobs=-1)]: Done 1776 tasks      | elapsed: 19.4min\n",
            "[Parallel(n_jobs=-1)]: Done 2426 tasks      | elapsed: 27.2min\n",
            "[Parallel(n_jobs=-1)]: Done 3176 tasks      | elapsed: 35.4min\n",
            "[Parallel(n_jobs=-1)]: Done 4026 tasks      | elapsed: 44.8min\n",
            "[Parallel(n_jobs=-1)]: Done 4800 out of 4800 | elapsed: 54.8min finished\n"
          ]
        }
      ],
      "source": [
        "grid_lr_b = grid_lr.fit(X_train,Y_train)"
      ]
    },
    {
      "cell_type": "code",
      "execution_count": null,
      "metadata": {
        "id": "rRgxaRUw1yxC",
        "outputId": "cc66e7e6-dfea-4e63-d805-e701023f3f16"
      },
      "outputs": [
        {
          "data": {
            "text/plain": [
              "{'C': 78.47599703514607,\n",
              " 'max_iter': 100,\n",
              " 'penalty': 'l2',\n",
              " 'solver': 'newton-cg'}"
            ]
          },
          "execution_count": 105,
          "metadata": {},
          "output_type": "execute_result"
        }
      ],
      "source": [
        "print(grid_lr_b.best_params_)"
      ]
    },
    {
      "cell_type": "code",
      "execution_count": null,
      "metadata": {
        "collapsed": true,
        "jupyter": {
          "outputs_hidden": true
        },
        "id": "Qnf7PkTC1yxC",
        "outputId": "90ca55c3-1543-4215-cacf-13ce7f900e04"
      },
      "outputs": [
        {
          "name": "stderr",
          "output_type": "stream",
          "text": [
            "C:\\Anaconda3\\lib\\site-packages\\scipy\\optimize\\linesearch.py:314: LineSearchWarning: The line search algorithm did not converge\n",
            "  warn('The line search algorithm did not converge', LineSearchWarning)\n",
            "C:\\Anaconda3\\lib\\site-packages\\sklearn\\utils\\optimize.py:204: UserWarning: Line Search failed\n",
            "  warnings.warn('Line Search failed')\n"
          ]
        },
        {
          "data": {
            "text/plain": [
              "LogisticRegression(C=78.475, class_weight=None, dual=False, fit_intercept=True,\n",
              "                   intercept_scaling=1, l1_ratio=None, max_iter=100,\n",
              "                   multi_class='auto', n_jobs=None, penalty='l2',\n",
              "                   random_state=None, solver='newton-cg', tol=0.0001, verbose=0,\n",
              "                   warm_start=False)"
            ]
          },
          "execution_count": 111,
          "metadata": {},
          "output_type": "execute_result"
        }
      ],
      "source": [
        "lr_best=LogisticRegression(C=78.475, max_iter=100, penalty='l2', solver='newton-cg')\n",
        "lr_best.fit(X_train, Y_train)\n"
      ]
    },
    {
      "cell_type": "code",
      "execution_count": null,
      "metadata": {
        "id": "6oTvAaDD1yxD"
      },
      "outputs": [],
      "source": [
        "predict_lrB=lr_best.predict(X_test)"
      ]
    },
    {
      "cell_type": "code",
      "execution_count": null,
      "metadata": {
        "id": "K8tDgzHf1yxD",
        "outputId": "a3f11c34-27eb-4874-87d5-a8417ed5b5d4"
      },
      "outputs": [
        {
          "name": "stdout",
          "output_type": "stream",
          "text": [
            "Accuracy for Logistic Rgeression on CV data:  0.56\n"
          ]
        }
      ],
      "source": [
        "print(\"Accuracy for Logistic Rgeression on CV data: \",accuracy_score(Y_test,predict_lrB))"
      ]
    },
    {
      "cell_type": "markdown",
      "metadata": {
        "id": "FLAK3Z0W1yxD"
      },
      "source": [
        "Ensembling<br>\n",
        "I used voting classification to ensemble the 3 model: SVM, KNN, LR."
      ]
    },
    {
      "cell_type": "code",
      "execution_count": null,
      "metadata": {
        "id": "8pBkd7v_1yxD"
      },
      "outputs": [],
      "source": [
        "estimator = []\n",
        "estimator.append(('LR',LogisticRegression(C=78.475, max_iter=100, penalty='l2', solver='newton-cg')))\n",
        "estimator.append(('SVC', SVC(C=0.1, degree=1, kernel='linear')))\n",
        "estimator.append(('KNN',  KNeighborsClassifier(n_neighbors = 5, weights = 'distance',algorithm = 'brute',metric = 'manhattan')))"
      ]
    },
    {
      "cell_type": "code",
      "execution_count": null,
      "metadata": {
        "collapsed": true,
        "jupyter": {
          "outputs_hidden": true
        },
        "id": "6l_Q1uqP1yxD",
        "outputId": "48ba6adb-ea9b-40fb-f326-6e0254a2d6c8"
      },
      "outputs": [
        {
          "name": "stderr",
          "output_type": "stream",
          "text": [
            "C:\\Anaconda3\\lib\\site-packages\\scipy\\optimize\\linesearch.py:314: LineSearchWarning: The line search algorithm did not converge\n",
            "  warn('The line search algorithm did not converge', LineSearchWarning)\n",
            "C:\\Anaconda3\\lib\\site-packages\\sklearn\\utils\\optimize.py:204: UserWarning: Line Search failed\n",
            "  warnings.warn('Line Search failed')\n"
          ]
        }
      ],
      "source": [
        "hard_voting = VotingClassifier(estimators = estimator, voting ='hard')\n",
        "hard_voting.fit(X_train, Y_train)\n",
        "y_pred_ens = hard_voting.predict(X_test)"
      ]
    },
    {
      "cell_type": "code",
      "execution_count": null,
      "metadata": {
        "id": "GCNONfYH1yxD",
        "outputId": "c56d702b-0b3f-4154-aa60-ad05bec99a98"
      },
      "outputs": [
        {
          "name": "stdout",
          "output_type": "stream",
          "text": [
            "Hard Voting Score: 0.6\n"
          ]
        }
      ],
      "source": [
        "score_ens = accuracy_score(Y_test, y_pred_ens)\n",
        "print(\"Hard Voting Score:\" ,score_ens)"
      ]
    },
    {
      "cell_type": "markdown",
      "metadata": {
        "id": "aWHbW3LZ1yxE"
      },
      "source": [
        "As a result, Random Forest Classifier was the most accurate among the models I applied. In order to do the Malware Classification process in this assignment, I will prefer the model random forest classifier, according to the results I have obtained. Of course, there are models that I have not tried and under normal conditions, they should also be considered.<br>\n",
        "Also, models in general did not get high accuracy values because I shrunk the data considerably to keep my train time short, which reduced model accuracies.I randomly selected the sample data to reduce the number of rows. This caused some classes to be less numerous in the dataset than others. This was one of the biggest factors that lowered the accuracy value."
      ]
    }
  ],
  "metadata": {
    "kernelspec": {
      "display_name": "Python 3",
      "language": "python",
      "name": "python3"
    },
    "language_info": {
      "codemirror_mode": {
        "name": "ipython",
        "version": 3
      },
      "file_extension": ".py",
      "mimetype": "text/x-python",
      "name": "python",
      "nbconvert_exporter": "python",
      "pygments_lexer": "ipython3",
      "version": "3.7.6"
    },
    "colab": {
      "provenance": []
    }
  },
  "nbformat": 4,
  "nbformat_minor": 0
}